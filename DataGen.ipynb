{
 "cells": [
  {
   "cell_type": "code",
   "execution_count": null,
   "id": "2909019e",
   "metadata": {},
   "outputs": [],
   "source": [
    "import numpy as np\n",
    "import pandas as pd\n",
    "\n",
    "def datasetGenerator():\n",
    "    sampleNo = int(input('Kindly input the number of samples you want to generate: '))\n",
    "\n",
    "    col = []\n",
    "    var_info = []\n",
    "    for var in input('Kindly input the variable names and types in order, separated by comma (e.g., Age:int,Income:float,Category:cat): ').split(','):\n",
    "        var_name, var_type = var.split(':')\n",
    "        col.append(var_name.strip())\n",
    "        var_info.append((var_name.strip(), var_type.strip()))\n",
    "\n",
    "    varNo = len(col)\n",
    "    df_dict = {}\n",
    "\n",
    "    for var_name, var_type in var_info:\n",
    "        if var_type.lower() in ['int', 'integer', 'discrete', 'int32']:\n",
    "            lower, upper = map(int, input(f'Kindly input the lower and upper bound for variable {var_name}: ').split(','))\n",
    "            df_dict[var_name] = np.random.randint(lower, upper+1, size=sampleNo)\n",
    "        elif var_type.lower() in ['float', 'continuous', 'float32']:\n",
    "            lower, upper = map(float, input(f'Kindly input the lower and upper bound for variable {var_name}: ').split(','))\n",
    "            df_dict[var_name] = np.random.uniform(lower, upper, size=sampleNo)\n",
    "        elif var_type.lower() in ['category', 'cat', 'categorical', 'label']:\n",
    "            categories = input(f'Kindly input the unique categories for variable {var_name}, separated by comma: ').split(',')\n",
    "            df_dict[var_name] = np.random.choice(categories, size=sampleNo)\n",
    "        else:\n",
    "            print(f\"Unknown variable type '{var_type}' for variable {var_name}. Skipping...\")\n",
    "            continue\n",
    "\n",
    "    df = pd.DataFrame(df_dict)\n",
    "    return df\n"
   ]
  }
 ],
 "metadata": {
  "kernelspec": {
   "display_name": "Python 3 (ipykernel)",
   "language": "python",
   "name": "python3"
  },
  "language_info": {
   "codemirror_mode": {
    "name": "ipython",
    "version": 3
   },
   "file_extension": ".py",
   "mimetype": "text/x-python",
   "name": "python",
   "nbconvert_exporter": "python",
   "pygments_lexer": "ipython3",
   "version": "3.10.13"
  }
 },
 "nbformat": 4,
 "nbformat_minor": 5
}
